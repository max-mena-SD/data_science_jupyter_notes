{
 "cells": [
  {
   "cell_type": "markdown",
   "id": "f3e9a640-de04-476c-b22f-98d74fdd0088",
   "metadata": {},
   "source": [
    "# Data Science Tools and Ecosystem"
   ]
  },
  {
   "cell_type": "markdown",
   "id": "059eeb08-0ba5-4b45-b5d4-0c0c53874e06",
   "metadata": {},
   "source": [
    "In this notebook, Data Science Tools and Ecosystem are summarized."
   ]
  },
  {
   "cell_type": "markdown",
   "id": "149ac073-26a6-49c4-b299-5b730b39a7e9",
   "metadata": {},
   "source": [
    "Some of the popular languages that Data Scientists use are:\n",
    "1. Python\n",
    "2. JavaScript\n",
    "3. Java"
   ]
  },
  {
   "cell_type": "markdown",
   "id": "036fb33f-3932-4831-817e-07ef94fb5d8b",
   "metadata": {},
   "source": [
    "| Data Science Tools |\n",
    "|--------------------|\n",
    "| jupyter notebook |\n",
    "| apache spark |\n",
    "| pytorch |\n"
   ]
  },
  {
   "cell_type": "markdown",
   "id": "38ae2dbb-01c3-4d45-a68a-f52336724992",
   "metadata": {},
   "source": [
    "### Below are a few examples of evaluating arithmetic expressions in Python"
   ]
  },
  {
   "cell_type": "code",
   "execution_count": 3,
   "id": "fa04fb69-fca7-425a-a3c5-4d1c8323be29",
   "metadata": {},
   "outputs": [
    {
     "data": {
      "text/plain": [
       "17"
      ]
     },
     "execution_count": 3,
     "metadata": {},
     "output_type": "execute_result"
    }
   ],
   "source": [
    "#This a simple arithmetic expression to mutiply then add integers\n",
    "(3*4)+5"
   ]
  },
  {
   "cell_type": "code",
   "execution_count": 12,
   "id": "d86291b7-dfa2-4c98-ae1f-efe3dc72a0e5",
   "metadata": {},
   "outputs": [
    {
     "data": {
      "text/plain": [
       "'3.33'"
      ]
     },
     "execution_count": 12,
     "metadata": {},
     "output_type": "execute_result"
    }
   ],
   "source": [
    "# This will convert 200 minutes to ours by dividing by 60\n",
    "format(200 / 60, '.2f')\n"
   ]
  },
  {
   "cell_type": "markdown",
   "id": "c228444f-c59b-491b-a20f-f8fc60926b5a",
   "metadata": {},
   "source": [
    "**Objectives:**\n",
    "\n",
    "* Python\n",
    "* JavaScript\n",
    "* R\n",
    "* Java\n",
    "* C++"
   ]
  },
  {
   "cell_type": "markdown",
   "id": "4218df5b-e4be-4d6f-825b-5989ccfc143b",
   "metadata": {},
   "source": [
    "## Author\n",
    "Max Mena"
   ]
  }
 ],
 "metadata": {
  "kernelspec": {
   "display_name": "Python 3 (ipykernel)",
   "language": "python",
   "name": "python3"
  },
  "language_info": {
   "codemirror_mode": {
    "name": "ipython",
    "version": 3
   },
   "file_extension": ".py",
   "mimetype": "text/x-python",
   "name": "python",
   "nbconvert_exporter": "python",
   "pygments_lexer": "ipython3",
   "version": "3.12.1"
  }
 },
 "nbformat": 4,
 "nbformat_minor": 5
}
